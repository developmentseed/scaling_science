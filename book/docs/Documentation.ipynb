{
 "cells": [
  {
   "cell_type": "markdown",
   "id": "2a1365d1",
   "metadata": {},
   "source": [
    "## Effective Documentation of Research\n",
    "\n",
    "\n",
    "Research papers in academia typically follow a structured format, beginning with domain-specific topic and a comprehensive literature review to establish research questions or hypotheses. We won't go into exegesis about how these efforts are done, but suffice to say that the general process follows a common trajectory. The study is designed, data is collected and analyzed, and results are presented and discussed in relation to existing literature. The conclusion summarizes findings and suggests future research directions. Although these forms of publication nearly always include results represented in great detail, with tables, figures, and visuals to enhance understanding, they do not always include supplementary materials to invite replication and validation. In effect, this may inhibit reproducubility and transparency, which stymies collaboration and reinforces redudancy.\n",
    "\n",
    "Supplementary materials provide additional context, data, or analyses beyond what can be included in the main paper, enhancing transparency and reproducibility. These materials often contain crucial details, such as raw data, code, or additional analyses, that are necessary for fully understanding and replicating the study. Without access to these materials, other researchers may struggle to reproduce the results or verify the findings, leading to uncertainty about the robustness of the research. Supplementary materials can help augment understanding of the research process, methodologies, and any limitations or caveats associated with the study. Without access to this such information, it becomes challenging for readers to evaluate the validity and reliability of the research, potentially undermining trust in the scientific process. Furthermore, collaborative efforts in science rely on the ability to access and build upon existing research. Supplementary materials enable researchers to engage with and expand upon previous work by providing access to preceding relevant data and methodologies. Without these materials, collaboration becomes more difficult, hindering scientific progress and innovation.\n",
    "\n",
    "There are several ways that we structure supplementary materials when doing research within industry:\n",
    "\n",
    "### Github repositories\n",
    "A GitHub repository serves as a central hub for hosting and sharing research code, data, and documentation. To make it useful for others to use, the repository should be organized into clear and intuitive directories, with descriptive names and README files providing an overview of the contents and instructions for usage. Code files should be well-commented, following best practices and coding standards (which you can find in great detail in the chapter on \"Open Access to Data and Code\"). Issues and discussions facilitate communication and problem-solving among collaborators. Version control and continuous integration (CI) tools automate testing and deployment processes, ensuring code quality and reliability. \n",
    "\n",
    "### Documentation websites\n",
    "\n",
    "It's best practice to host documentation through a human readable, navigable and easily discoverable platform. A common method is to use dedicated websites for hosting documentation, separate from the github repository itself. A great utility for building these websites is Jupyter Book (discussed in the chapter on \"Use of Notebooks\" and as a reminder, what was used to build this website itself) if documenting a project or workflow, and [Read the Docs](https://about.readthedocs.com/?ref=readthedocs.com) if documenting something like a software package.\n",
    "\n",
    "\n",
    "In effect, dedicated documentation websites for methods, code and datasets serve as comprehensive guides that provide users with information on how to use, understand, and/or contribute to a project. With these, the goal is to offer clear instructions and examples on how to set up, configure, and use the provided code and data. In some cases, one might include things like troubleshooting guides and common error messages to help downstream users resolve issues they might encounter while using the code. As well, best practices involve including API references that document the key functions, classes, and modules. It's nice to include some explanations on the logic behind certain decisions as well. If contributions are anticipated or solicited to the published work, it's helpful to include guidance on the ideal contribution process, coding standards and testing procedures. Lastly, it's important to make sure that versioning, whether in a redux manner or changelog, is reflected clearly. Suffice to say, a well-documented project is more likely to be adopted by other researchers and collaborators at large. Documentation websites serve as tools that showcase the project's capabilities, benefits, and use cases, attracting a wider audience and increasing its visibility within the community.\n",
    "\n",
    "Some examples of documentation websites built in this capacity include:\n",
    "- [Clay Foundation Model: An open source AI model for Earth](https://clay-foundation.github.io/model/)\n",
    "- [Housing Passports v2](https://developmentseed.org/housing-passports-v2/docs/index.html)"
   ]
  },
  {
   "cell_type": "markdown",
   "id": "392013c1",
   "metadata": {},
   "source": []
  }
 ],
 "metadata": {
  "kernelspec": {
   "display_name": "wave",
   "language": "python",
   "name": "wave"
  },
  "language_info": {
   "codemirror_mode": {
    "name": "ipython",
    "version": 3
   },
   "file_extension": ".py",
   "mimetype": "text/x-python",
   "name": "python",
   "nbconvert_exporter": "python",
   "pygments_lexer": "ipython3",
   "version": "3.8.6"
  }
 },
 "nbformat": 4,
 "nbformat_minor": 5
}

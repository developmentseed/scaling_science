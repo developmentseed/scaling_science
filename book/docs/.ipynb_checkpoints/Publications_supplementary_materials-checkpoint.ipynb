{
 "cells": [
  {
   "cell_type": "markdown",
   "id": "b1022f88",
   "metadata": {},
   "source": [
    "**Expanding on the concept of including supplementary materials in research publications:**\n",
    "\n",
    "**1. Purpose and Content:**\n",
    "\n",
    "\n",
    "\n",
    "* Clearly define the purpose of the supplementary materials section, which is to provide readers with access to additional resources that complement the main content of the research paper.\n",
    "* Identify the types of materials that could be included, such as code repositories, datasets, figures, tables, detailed methodology descriptions, raw data, and additional analyses.\n",
    "\n",
    "**2. Organization and Accessibility:**\n",
    "\n",
    "\n",
    "\n",
    "* Organize the supplementary materials in a structured and easily navigable format to facilitate access for readers.\n",
    "* Consider creating a dedicated section at the end of the research paper for supplementary materials or hosting them on a separate webpage linked from the paper.\n",
    "* Provide clear and descriptive titles or labels for each supplementary item to help readers understand its content and relevance.\n",
    "\n",
    "**3. Hosting Platforms:**\n",
    "\n",
    "\n",
    "\n",
    "* Select appropriate hosting platforms or repositories for different types of supplementary materials:\n",
    "    * Code: Use version control platforms like GitHub to host code repositories.\n",
    "    * Datasets: Store datasets on platforms such as Zenodo, Source Cooperative, or institutional repositories that provide persistent identifiers (DOIs) for citation.\n",
    "    * Figures and Tables: Include high-resolution images, tables, or supplementary documents directly in the research paper or host them on platforms like Zenodo.\n",
    "    * Additional Analyses: Provide Jupyter notebooks, scripts, or supplementary documents detailing additional analyses on platforms like GitHub or as downloadable files.\n",
    "\n",
    "**4. Linking and Citations:**\n",
    "\n",
    "\n",
    "\n",
    "* Include clear and prominent links to the supplementary materials within the main text of the research paper, typically in the \"Supplementary Materials\" section or in relevant sections of the paper.\n",
    "* Ensure that each supplementary item is appropriately cited within the paper, following citation standards and guidelines for the respective material types.\n",
    "\n",
    "**5. Version Control and Updates:**\n",
    "\n",
    "\n",
    "\n",
    "* Use version control for code repositories to track changes, revisions, and contributions from collaborators.\n",
    "* Provide information on how readers can access updated versions of the supplementary materials, especially if revisions or improvements are made after the publication of the paper.\n",
    "\n",
    "**6. Compliance and Licensing:**\n",
    "\n",
    "\n",
    "\n",
    "* Ensure that all supplementary materials comply with ethical guidelines, data sharing policies, and licensing requirements, including proper attribution and adherence to open-access principles.\n",
    "* Clearly specify the licensing terms and usage permissions for code, datasets, and other materials to clarify how they can be reused, modified, or redistributed by others.\n",
    "\n",
    "**7. Accessibility and Longevity:**\n",
    "\n",
    "\n",
    "\n",
    "* Choose hosting platforms and repositories that prioritize accessibility, interoperability, and long-term preservation of supplementary materials.\n",
    "* Consider accessibility features such as providing alternative formats for visually impaired users or ensuring compatibility with assistive technologies.\n",
    "* By implementing these strategies, researchers can enhance the transparency, reproducibility, and impact of their work by providing readers with comprehensive access to supplementary materials that support and extend the findings presented in the main research paper."
   ]
  },
  {
   "cell_type": "code",
   "execution_count": null,
   "id": "f868eb59",
   "metadata": {},
   "outputs": [],
   "source": []
  }
 ],
 "metadata": {
  "kernelspec": {
   "display_name": "wave",
   "language": "python",
   "name": "wave"
  },
  "language_info": {
   "codemirror_mode": {
    "name": "ipython",
    "version": 3
   },
   "file_extension": ".py",
   "mimetype": "text/x-python",
   "name": "python",
   "nbconvert_exporter": "python",
   "pygments_lexer": "ipython3",
   "version": "3.8.6"
  }
 },
 "nbformat": 4,
 "nbformat_minor": 5
}

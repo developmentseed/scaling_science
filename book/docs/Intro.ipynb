{
 "cells": [
  {
   "cell_type": "markdown",
   "id": "0c736c5d",
   "metadata": {},
   "source": [
    "## An Example Scenario: a Researcher's Transition to Industry\n",
    "\n",
    "In her academic journey, a researcher specializing in coastal ecology and phenology devoted her doctoral studies to analyzing seasonal dynamics of coastal ecosystems in California. Her research utilized remote sensing techniques and programming, but it may have also leveraged proprietary tools to work with satellite imagery and observe the phenological patterns of coastal vegetation (e.g. changes in leaf phenology, vegetation greenness, and ecosystem health). Naturally, her research was disseminated through peer-reviewed publications and academic conferences. This positioned her as a contributer in the academic community studying coastal phenology.\n",
    "\n",
    "Driven by a desire to translate academic insights into tangible conservation efforts and practical applications, the researcher seeks to transition from academia to industry. She is inspired by the potential of open-source satellite data and collaborative platforms to democratize access to environmental information and drive positive change, and to that end, she envisions leveraging cutting-edge technologies to address pressing environmental challenges.\n",
    "\n",
    "As the researcher navigates this transition, she encounters a series of challenges and opportunities inherent in the shift from academia to applied science in industry. We'll focus on an industry that fosters an environment appreciative of [open science](https://www.cos.io/open-science), [open data](https://opendatahandbook.org/guide/en/what-is-open-data/), transparency and collaboration:\n",
    "\n",
    "\n",
    "![Open science](https://www.cos.io/hubfs/lifecycle-practices.png)\n",
    "\"Open Science\" from the [Center for Open Science](https://www.cos.io/open-science).\n",
    "\n",
    "\n",
    "> **Note:** It's not the norm in industry to share everything in the open. This really depends on the business model. This course advocates for a more open approach to science applied in industry, so we are intentionally speaking to this subset of industry.\n",
    "\n",
    "**Culture gap**: Transitioning from academia to industry requires adaptation to a new cultural paradigm characterized by open collaboration, innovation, and shared knowledge. While academia values scholarly discourse and peer-reviewed publications, industry emphasizes practical problem-solving, transparency, and community-driven innovation. The researcher must embrace the collaborative ethos of the open-source community, actively engaging with fellow researchers, developers, and environmental practitioners to co-create solutions and drive impact.\n",
    "\n",
    "**Tech stack**:\n",
    "As part of this transition, the researcher recognizes the need to adapt to a new technological landscape characterized by open-source tools, collaborative platforms, and community-driven development. In academia, perhaps she was accustomed to relying on proprietary software for geospatial analysis and remote sensing. Although scalable open source is supported and encouraged in academia, she sees that the value can be even greater in industry when the goal is to scale because of the ability to tap so much compute on-demand with limited licensing, and faster iteration cycles with community-developed tools. Thus, as she looks forward to her shift into industry, she sees the potential of leveraging cutting-edge technologies as a replacement for proprietary methods, as a means to enable more scalable, robust and powerful analysis all whilst participating in a collaborative development ecosystem. \n",
    "\n",
    "\n",
    "> **Reasons for open source tools instead of proprietary software:** \n",
    ">   - license costs: fees can be re-allocated towards development and compute\n",
    ">   - scalable: coding is more scalable than a purely graphical solution\n",
    ">   - options: since open source is also free of cost, one can adopt as many as desired and/or needed\n",
    ">   - easily repeatable: since the code is public and transparent, it's easy for others to reproduce and validate methods\n",
    ">   - portable across systems: usually this code is much more amenable for cross-platform deployment than in a local or \"on-prem\" desktop environment\n",
    "\n",
    "\n",
    "Embracing this paradigm shift, the researcher immerses herself in learning open-source technology, which encompasses a diverse array of tools and frameworks customizable to various research needs. She adopts [Python](https://www.python.org/) as her primary programming language, recognizing its versatility, ease of use, and extensive ecosystem of libraries for data analysis, visualization, and machine learning. Leveraging open source geospatial processing and analysis libraries, she gains the ability to process, analyze, and visualize geospatial data with precision and efficiency, empowering her to explore complex multidimensional datasets and extract meaningful insights about coastal phenology dynamics.\n",
    "\n",
    "Furthermore, the researcher learns to embrace collaborative platforms like [GitHub](https://github.com/home) as a central hub for sharing code, collaborating with fellow researchers, and contributing to open-source projects. By actively participating in the open-source community, she gains exposure to diverse perspectives, best practices, and cutting-edge developments in geospatial analysis and environmental science. Through collaborative workflows and transparent documentation practices, she fosters a culture of open science and reproducibility, driving innovation and advancing her field of research.\n",
    "\n",
    "![Example tech stack](https://developmentseed.org/static/07ed8510160803db8f0aab1c1c1a942c/097fa/ml-tooling-cover.jpg)\n",
    "\"Machine Learning (ML) Tooling Stack\" from the [Our ML Tooling 2022 by Development Seed](https://developmentseed.org/blog/2022-09-27-ml-tooling).\n",
    "\n",
    "**Time constraints**: In academia, research projects often unfold over extended timelines, allowing for in-depth exploration and experimentation. However, within industry, projects are driven by partner requirements, deadlines, and rapid iteration cycles. The researcher must adjust workflow management strategies to meet the accelerated pace of industry innovation, adopting agile methodologies and iterative development approaches to drive progress and deliver results efficiently.\n",
    "\n",
    "**Communication and collaboration**: Effective communication and collaboration are essential skills for success in both academia and industry. However, the communication dynamics differ significantly between the two environments, with academia emphasizing scholarly discourse and peer-reviewed publications, while the industry prioritizes practicality, accessibility, and real-world impact. The researcher must refine communication skills to convey research findings in a clear, concise, and actionable manner, fostering interdisciplinary collaborations and engaging with diverse stakeholders to drive impact.\n",
    "\n",
    "**Resource allocation**: Generally, academia and industry operate within distinct resource allocation frameworks, with academia leveraging research grants and institutional resources, while industry allocates resources based on business priorities and return on investment. There are exceptions to this within industry, such as companies like [Development Seed](https://developmentseed.org/) and many NGOs, which engage in some partnerships under a grant framework and institutional funding as well. Regardless, the researcher must adapt to the resource constraints of industry, demonstrating the value proposition of her research in driving real world impact. By leveraging open-source platforms and collaborative tools, she can maximize the exposure, adoption and therefore impact of her work.\n",
    "\n",
    "**Intellectual property (IP) and confidentiality**: In many industry scenarios, intellectual property rights and confidentiality agreements may play a crucial role in collaborations. These aspects may require the researcher to navigate IP policies, NDAs, and proprietary information while ensuring the protection of her research outcomes. By fostering a culture of trust, transparency, and collaboration, she can navigate the legal and ethical complexities of industry collaborations while driving innovation and impact.\n",
    "\n",
    "Throughout her transition from academia to industry, the researcher embodies the spirit of innovation, collaboration, and environmental stewardship essential for success in the dynamic landscape of open-source science and technology. By leveraging academic expertise, embracing collaborative platforms like GitHub and STAC, and embracing the open-source ethos of transparency and community-driven innovation, she pioneers new frontiers in the study of coastal phenology, driving positive change and impact in the broader scientific and environmental ecosystem.\n",
    "\n",
    "> **_SUGGESTION:_**  We strongly recommend reading more on open science through [NASA's Transform to Open Science initiative](https://nasa.github.io/Transform-to-Open-Science/)"
   ]
  }
 ],
 "metadata": {
  "kernelspec": {
   "display_name": "wave",
   "language": "python",
   "name": "wave"
  },
  "language_info": {
   "codemirror_mode": {
    "name": "ipython",
    "version": 3
   },
   "file_extension": ".py",
   "mimetype": "text/x-python",
   "name": "python",
   "nbconvert_exporter": "python",
   "pygments_lexer": "ipython3",
   "version": "3.8.6"
  }
 },
 "nbformat": 4,
 "nbformat_minor": 5
}
